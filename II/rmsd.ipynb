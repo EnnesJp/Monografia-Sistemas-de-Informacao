{
 "cells": [
  {
   "cell_type": "code",
   "execution_count": 1,
   "id": "1f44b07a-9960-43c6-bf19-83da44e3409a",
   "metadata": {},
   "outputs": [],
   "source": [
    "import math\n",
    "\n",
    "def RMSD(p1, p2):\n",
    "    x = 0\n",
    "    y = 1\n",
    "    z = 2\n",
    "    soma = 0\n",
    "    \n",
    "    for i in p1.keys():\n",
    "        soma += (p1[i][x]-p2[i][x])**2 + (p1[i][y]-p2[i][y])**2 + (p1[i][z]-p2[i][z])**2\n",
    "        \n",
    "    n = len(p1) \n",
    "    return math.sqrt(soma/n)"
   ]
  }
 ],
 "metadata": {
  "kernelspec": {
   "display_name": "Python 3 (ipykernel)",
   "language": "python",
   "name": "python3"
  },
  "language_info": {
   "codemirror_mode": {
    "name": "ipython",
    "version": 3
   },
   "file_extension": ".py",
   "mimetype": "text/x-python",
   "name": "python",
   "nbconvert_exporter": "python",
   "pygments_lexer": "ipython3",
   "version": "3.9.6"
  }
 },
 "nbformat": 4,
 "nbformat_minor": 5
}
