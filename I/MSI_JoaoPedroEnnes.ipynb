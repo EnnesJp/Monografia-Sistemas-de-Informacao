{
  "nbformat": 4,
  "nbformat_minor": 0,
  "metadata": {
    "colab": {
      "provenance": []
    },
    "kernelspec": {
      "name": "python3",
      "display_name": "Python 3"
    },
    "language_info": {
      "name": "python"
    }
  },
  "cells": [
    {
      "cell_type": "code",
      "execution_count": 43,
      "metadata": {
        "id": "VlkGCJtJBgSj",
        "colab": {
          "base_uri": "https://localhost:8080/"
        },
        "outputId": "dd3edabe-2dbd-4c47-9ae3-4527d9e6727f"
      },
      "outputs": [
        {
          "output_type": "stream",
          "name": "stdout",
          "text": [
            "Drive already mounted at /content/drive; to attempt to forcibly remount, call drive.mount(\"/content/drive\", force_remount=True).\n"
          ]
        }
      ],
      "source": [
        "from google.colab import drive\n",
        "drive.mount(\"/content/drive\")"
      ]
    },
    {
      "cell_type": "code",
      "source": [
        "def getChainIds(lines):\n",
        "  chainIds = []\n",
        "  for l in lines:\n",
        "    if l[21] not in chainIds:\n",
        "      chainIds.append(l[21])\n",
        "\n",
        "  return chainIds\n",
        "\n",
        "def getProteinChain(chainId, lines):\n",
        "  atoms = {}\n",
        "  for l in lines:\n",
        "    if l[21] == chainId and l[13:15] == 'CA':\n",
        "      resSeq = int(l[22:26])\n",
        "      x = float(l[30:38])\n",
        "      y = float(l[39:46])\n",
        "      z = float(l[47:54])\n",
        "      atoms[resSeq] = (x, y, z)\n",
        "  return atoms\n",
        "\n",
        "def getRNAChain(chainId, lines):\n",
        "  atoms = {}\n",
        "  nucleotides = ['A', 'U', 'C', 'G']\n",
        "  for l in lines:\n",
        "    if l[21] == chainId and l[18:20].strip() in nucleotides:\n",
        "      resSeq = int(l[22:26])\n",
        "      x = float(l[30:38])\n",
        "      y = float(l[39:46])\n",
        "      z = float(l[47:54])\n",
        "      atoms[resSeq] = (x, y, z)\n",
        "  return atoms"
      ],
      "metadata": {
        "id": "qQwQqHnQL6sY"
      },
      "execution_count": 89,
      "outputs": []
    },
    {
      "cell_type": "code",
      "source": [
        "import os\n",
        "\n",
        "DATABASE_DIR = '/content/drive/MyDrive/structures'\n",
        "\n",
        "def readFiles():\n",
        "  proteinChains = {}\n",
        "  RNAChains = {}\n",
        "  for filename in os.listdir(DATABASE_DIR):\n",
        "    with open(f'{DATABASE_DIR}/{filename}', 'r') as fr:\n",
        "      lines = fr.readlines()\n",
        "      structCode = filename[:4]\n",
        "      chainIDs = getChainIds(lines)\n",
        "      if len(chainIDs) == 2:\n",
        "        for chainID in chainIDs:\n",
        "          proteinChain = getProteinChain(chainID, lines)\n",
        "          if proteinChain != {}:\n",
        "            proteinChains[structCode] = proteinChain\n",
        "          RNAChain = getRNAChain(chainID, lines)\n",
        "          if RNAChain != {}:\n",
        "            RNAChains[structCode] = RNAChain\n",
        "\n",
        "  return proteinChains, RNAChains\n",
        "\n",
        "proteinChains, RNAChains = readFiles()"
      ],
      "metadata": {
        "id": "bJzdt7EZGC_8"
      },
      "execution_count": 90,
      "outputs": []
    },
    {
      "cell_type": "code",
      "source": [
        "import pandas as pd\n",
        "\n",
        "plot_rna_data = []\n",
        "\n",
        "for key, values in RNAChains.items():\n",
        "  plot_rna_data.append([key, len(values)])\n",
        "\n",
        "\n",
        "rna_df = pd.DataFrame(plot_rna_data, columns=['Structure', 'Number of nucleotides'])\n",
        "print(rna_df)"
      ],
      "metadata": {
        "colab": {
          "base_uri": "https://localhost:8080/"
        },
        "id": "q5ykkfC_hfBT",
        "outputId": "57187127-3ccf-48cf-9e00-7290c5d60e2d"
      },
      "execution_count": 86,
      "outputs": [
        {
          "output_type": "stream",
          "name": "stdout",
          "text": [
            "    Structure  Number of nucleotides\n",
            "0        1ekz                     30\n",
            "1        1zbn                     28\n",
            "2        1x1l                    130\n",
            "3        1ull                     35\n",
            "4        1rmv                      3\n",
            "..        ...                    ...\n",
            "193      7zap                     28\n",
            "194      7yyn                     55\n",
            "195      7yym                     55\n",
            "196      7yn9                     38\n",
            "197      7zpi                     55\n",
            "\n",
            "[198 rows x 2 columns]\n"
          ]
        }
      ]
    },
    {
      "cell_type": "code",
      "source": [
        "plot_protein_data = []\n",
        "\n",
        "for key, values in proteinChains.items():\n",
        "  plot_protein_data.append([key, len(values)])\n",
        "\n",
        "protein_df = pd.DataFrame(plot_protein_data, columns=['Structure', 'Number of amino acids'])\n",
        "print(protein_df)"
      ],
      "metadata": {
        "colab": {
          "base_uri": "https://localhost:8080/"
        },
        "id": "e1pXg3igjNCO",
        "outputId": "26cfe79f-c677-4dfe-8aac-038f52f8f18e"
      },
      "execution_count": 88,
      "outputs": [
        {
          "output_type": "stream",
          "name": "stdout",
          "text": [
            "    Structure  Number of amino acids\n",
            "0        1ekz                     76\n",
            "1        1zbn                     17\n",
            "2        1x1l                    292\n",
            "3        1ull                     17\n",
            "4        1rmv                    156\n",
            "..        ...                    ...\n",
            "193      7zap                     97\n",
            "194      7yyn                    705\n",
            "195      7yym                   1281\n",
            "196      7yn9                   1514\n",
            "197      7zpi                    705\n",
            "\n",
            "[198 rows x 2 columns]\n"
          ]
        }
      ]
    }
  ]
}